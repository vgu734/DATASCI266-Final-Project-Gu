{
 "cells": [
  {
   "cell_type": "markdown",
   "id": "50326ee9",
   "metadata": {},
   "source": [
    "# BERT Narration Classification\n",
    "\n",
    "### Final Project - Vincent Gu\n",
    "### DATASCI 266 - Section 3 - Summer 2023"
   ]
  },
  {
   "cell_type": "markdown",
   "id": "3bce33d8",
   "metadata": {},
   "source": [
    "## Background\n",
    "\n",
    "As a model framework, BERT's pre-training on existing 'real' data such as Wikipedia provides an enormous repository\n",
    "of context and position based word embeddings suitable as a starting point for a myriad of language tasks. Tuning this \n",
    "pre-trained model can lead to increased task accuracy for specific tasks and datasets.\n",
    "\n",
    "However, how does BERT perform when presented with fictional text that differs substantially from the non-fiction\n",
    "(Wikipedia) data it was trained on? Furthermore, how well can BERT be fine-tuned with fictional text to increase \n",
    "performance at a classification text? Finally, how well can BERT pick up subtle variations in word meanings based on \n",
    "surrounding fictional context?\n",
    "\n",
    "To begin answering these questions, I leveraged the base BERT model with the science fiction novel 'Dark Age' by \n",
    "Pierce Brown. In the novel Brown crafts a dystopia in which mankind genetically engineered itsself into twelve distinct castes (colors in the book). Each color holds a certain function in society and inter-color marriage is forbidden and engineered to be biologically impossible. For example, Gold as the ruling class are engineered to be taller, stronger and smarter than Reds who toil as menial slave laborers.\n",
    "\n",
    "The novel contains narration from 5 different individuals of different colors and perspectives and the corresponding language task involves classifying an excerpt of the text based on which narrator the model believes the text came \n",
    "from. I then looked to improve model performance by fine-tuning. Finally, I analyzed various out-of-context words \n",
    "specific to the world Pierce Brown created to determine if the fine-tuned BERT could pick up nuanced word meanings,\n",
    "as represented in word embeddings, based on narrator.\n",
    "\n",
    "The five narrators (classification buckets) are:\n",
    "1. Darrow: A Red genetically 'carved' into a Gold warlord who led an uprising\n",
    "2. Virginia: The Gold Sovereign (ruler) of a more egalitarian/reformed society\n",
    "3. Ephraim: A Gray (foot soldier)\n",
    "4. Lyria: A Red disillusioned with Virginia's society\n",
    "5. Lysander: The last grandchild of the former Sovereign, a fascist slaver"
   ]
  },
  {
   "cell_type": "markdown",
   "id": "4d1ff257",
   "metadata": {},
   "source": [
    "## Objectives\n",
    "\n",
    "- Build and train a fine-tuned BERT model to classify excerpts from the novel based on its narrator\n",
    "- Determine if the model can pick up nuanced out-of-context word meanings based on the perspectives of each narrator"
   ]
  },
  {
   "cell_type": "markdown",
   "id": "bc083091",
   "metadata": {},
   "source": [
    "## Project Directory\n",
    "\n",
    "* data (directory)\n",
    "  * dark-age-raw-text.txt\n",
    "* helpermodule (directory)\n",
    "  * data.py\n",
    "* models (directory - not in Github due to model size)\n",
    "* **main.ipynb**\n",
    "* BERT_base.py\n",
    "* train_BERT_base.sh"
   ]
  },
  {
   "cell_type": "markdown",
   "id": "f2c8f07e",
   "metadata": {},
   "source": [
    "## Data Setup"
   ]
  },
  {
   "cell_type": "code",
   "execution_count": 1,
   "id": "c83da45a",
   "metadata": {},
   "outputs": [],
   "source": [
    "import sys\n",
    "sys.path.append('helpermodule')\n",
    "import os\n",
    "os.environ['TF_CPP_MIN_LOG_LEVEL'] = '3'\n",
    "\n",
    "import numpy as np\n",
    "from numpy import dot\n",
    "from numpy.linalg import norm\n",
    "\n",
    "from helpermodule import data\n",
    "from data import get_chapter_data, get_excerpt_data, format_data\n",
    "from sklearn import preprocessing\n",
    "from sklearn.model_selection import train_test_split"
   ]
  },
  {
   "cell_type": "markdown",
   "id": "c80cecd2",
   "metadata": {},
   "source": [
    "The custom helpermodule package processes the raw text into labeled data. We have 2,214 excerpts of 128 words. Here is an example of the label associated with a given excerpt. "
   ]
  },
  {
   "cell_type": "code",
   "execution_count": 2,
   "id": "5f8e3e45",
   "metadata": {},
   "outputs": [
    {
     "name": "stdout",
     "output_type": "stream",
     "text": [
      "# Excerpts: 2214\n",
      "Darrow\n",
      "wheel away back into my world. The Reds who came to my aid stand watching me. There are six of the sunbaked laborers. Not a one older than twenty. They stand with their ﬁsts in a salute. I open an external pouch manually and ﬁnd the helm key. I insert it into the collar until a latch pops. I roll back the wolf’s head helm and suck down the fresh air. The young Reds stare up at me. They might have thought they recognized my armor before, but now they see my face, and they take a step back in fear. “I lost my razor on the rooftops. Find it.” By the time the skinniest of them returns with my slingBlade in his trembling hands, another crowd has\n"
     ]
    }
   ],
   "source": [
    "excerpt_labels, excerpt_examples = get_excerpt_data(n_words=128)\n",
    "print(\"# Excerpts:\", len(excerpt_labels))\n",
    "print(excerpt_labels[2000])\n",
    "print(excerpt_examples[2000])"
   ]
  },
  {
   "cell_type": "markdown",
   "id": "fccd7ea1",
   "metadata": {},
   "source": [
    "How balanced are our classes?\n",
    "\n",
    "For the most part, relatively balanced. But the 'Ephraim' and 'Virginia' narrations aren't quite as prevalent as 'Lysander'."
   ]
  },
  {
   "cell_type": "code",
   "execution_count": 3,
   "id": "8b5a7336",
   "metadata": {},
   "outputs": [
    {
     "data": {
      "text/plain": [
       "(array(['Darrow', 'Ephraim', 'Lyria', 'Lysander', 'Virginia'], dtype='<U8'),\n",
       " array([456, 458, 367, 556, 377]))"
      ]
     },
     "execution_count": 3,
     "metadata": {},
     "output_type": "execute_result"
    }
   ],
   "source": [
    "np.unique(excerpt_labels, return_counts=True)"
   ]
  },
  {
   "cell_type": "markdown",
   "id": "158288e1",
   "metadata": {},
   "source": [
    "# BERT Setup"
   ]
  },
  {
   "cell_type": "code",
   "execution_count": 4,
   "id": "c3b9bfd0",
   "metadata": {},
   "outputs": [],
   "source": [
    "import os\n",
    "os.environ['TF_CPP_MIN_LOG_LEVEL'] = '3'\n",
    "import tensorflow as tf\n",
    "from tensorflow import keras\n",
    "from tensorflow.keras.layers import Embedding, Input, Dense, Lambda\n",
    "from tensorflow.keras.models import Model\n",
    "import tensorflow.keras.backend as K\n",
    "from keras.utils import to_categorical\n",
    "import seaborn as sns\n",
    "\n",
    "import matplotlib.pyplot as plt\n",
    "from transformers import BertTokenizer, TFBertModel\n",
    "from transformers import logging\n",
    "tf.get_logger().setLevel('ERROR')"
   ]
  },
  {
   "cell_type": "code",
   "execution_count": 5,
   "id": "df066979",
   "metadata": {},
   "outputs": [
    {
     "name": "stderr",
     "output_type": "stream",
     "text": [
      "Some layers from the model checkpoint at bert-base-cased were not used when initializing TFBertModel: ['nsp___cls', 'mlm___cls']\n",
      "- This IS expected if you are initializing TFBertModel from the checkpoint of a model trained on another task or with another architecture (e.g. initializing a BertForSequenceClassification model from a BertForPreTraining model).\n",
      "- This IS NOT expected if you are initializing TFBertModel from the checkpoint of a model that you expect to be exactly identical (initializing a BertForSequenceClassification model from a BertForSequenceClassification model).\n",
      "All the layers of TFBertModel were initialized from the model checkpoint at bert-base-cased.\n",
      "If your task is similar to the task the model of the checkpoint was trained on, you can already use TFBertModel for predictions without further training.\n"
     ]
    }
   ],
   "source": [
    "bert_tokenizer = BertTokenizer.from_pretrained('bert-base-cased')\n",
    "bert_model = TFBertModel.from_pretrained('bert-base-cased')"
   ]
  },
  {
   "cell_type": "markdown",
   "id": "485c7a2e",
   "metadata": {},
   "source": [
    "## Training the Fine-Tuned Models"
   ]
  },
  {
   "cell_type": "markdown",
   "id": "d765c00e",
   "metadata": {},
   "source": [
    "To gauge various model training behaviors, the fine-tuned BERT model was trained using a number of batch sizes: **4, 8, 16** and two excerpt sizes: **64, 128**. In this setting, a single labeled observation (data point) would be comprised of either 100 or 256 words. Training details are saved as screenshots under the **training_screenshots** folder.\n",
    "\n",
    "As BERT's underlying transformer architecture requires significant computational resources, models were trained using GPU as opposed to CPU. Attempting to train on CPU look approximately two hours per epoch which was cut to between 5-10 minutes per epoch with GPU. Due to the size of these models, they were trained via commandline with the shell script **train_BERT.sh** which makes sucessive calls to **BERT_base.py**. These individual .py calls are parameterized with both the batch size and excerpt size. \n",
    "\n",
    "The three BERT inputs of input ids, token type ids and attention mask are consolidated into the [CLS] token embedding which is then fed into successive fully connected dense layers and a final five-class softmax classification output layer.\n",
    "\n",
    "Overall, the models were able to learn a significant amount during training with final epoch validation accuracies around 80%. We see in initial epochs many models start off with about 20% validation accuracy - which indicates that at this point the model isn't performing any better at sorting into the five bins than it would if it was just randomly guessing. However, the substantial increases in validation accuracy over epochs demonstrates BERT's ability to learn."
   ]
  },
  {
   "cell_type": "markdown",
   "id": "4a51aed4",
   "metadata": {},
   "source": [
    "*Best Performing Model*"
   ]
  },
  {
   "cell_type": "code",
   "execution_count": 6,
   "id": "a2ee4a3e",
   "metadata": {},
   "outputs": [
    {
     "name": "stderr",
     "output_type": "stream",
     "text": [
      "Some layers from the model checkpoint at bert-base-cased were not used when initializing TFBertModel: ['nsp___cls', 'mlm___cls']\n",
      "- This IS expected if you are initializing TFBertModel from the checkpoint of a model trained on another task or with another architecture (e.g. initializing a BertForSequenceClassification model from a BertForPreTraining model).\n",
      "- This IS NOT expected if you are initializing TFBertModel from the checkpoint of a model that you expect to be exactly identical (initializing a BertForSequenceClassification model from a BertForSequenceClassification model).\n",
      "All the layers of TFBertModel were initialized from the model checkpoint at bert-base-cased.\n",
      "If your task is similar to the task the model of the checkpoint was trained on, you can already use TFBertModel for predictions without further training.\n"
     ]
    }
   ],
   "source": [
    "bert_model_ft = tf.keras.models.load_model('./models/bert_classification_model_16_100.h5', custom_objects={\"TFBertModel\": bert_model})\n",
    "x_train, x_test, y_train, y_test = format_data(n=100)"
   ]
  },
  {
   "cell_type": "code",
   "execution_count": 7,
   "id": "32aa5f6f",
   "metadata": {},
   "outputs": [
    {
     "name": "stdout",
     "output_type": "stream",
     "text": [
      "18/18 [==============================] - 29s 2s/step - loss: 0.9560 - accuracy: 0.7947\n"
     ]
    },
    {
     "data": {
      "text/plain": [
       "[0.9560215473175049, 0.7946902513504028]"
      ]
     },
     "execution_count": 7,
     "metadata": {},
     "output_type": "execute_result"
    }
   ],
   "source": [
    "bert_model_ft.evaluate([x_test.input_ids, x_test.token_type_ids, x_test.attention_mask],\n",
    "                                    y_test)"
   ]
  },
  {
   "cell_type": "code",
   "execution_count": 8,
   "id": "67649260",
   "metadata": {},
   "outputs": [
    {
     "name": "stdout",
     "output_type": "stream",
     "text": [
      "18/18 [==============================] - 29s 2s/step\n"
     ]
    },
    {
     "data": {
      "image/png": "[encoded data removed]",
      "text/plain": [
       "<Figure size 640x480 with 1 Axes>"
      ]
     },
     "metadata": {},
     "output_type": "display_data"
    }
   ],
   "source": [
    "bert_cm = tf.math.confusion_matrix(\n",
    "    np.argmax(y_test, axis=1),\n",
    "    np.argmax(bert_model_ft.predict([x_test.input_ids, x_test.token_type_ids, x_test.attention_mask]), axis=1),\n",
    ")\n",
    "classes = ['Darrow', 'Ephraim', 'Lyria', 'Lysander', 'Virginia']\n",
    "sns.heatmap(bert_cm, annot=True, cbar=False, cmap=\"Blues\", fmt=\"g\", xticklabels=classes, yticklabels=classes)\n",
    "plt.title('Actual', fontsize=16)\n",
    "plt.ylabel('Predicted', fontsize=16)\n",
    "plt.yticks(rotation=0)\n",
    "plt.show()"
   ]
  },
  {
   "cell_type": "markdown",
   "id": "a0670a40",
   "metadata": {},
   "source": [
    "The model performs very well at identifying the 'Ephraim' and 'Virginia' perspectives and performed modestly well on most of the others. Note that a large fraction (x/x) of 'Darrow' narrations were mistakenly attributed to 'Lysander'. This is likely due to intrinsic similarities between those two narrators as in the novel they fight against each other chapter to chapter. We can see that for the real 'Lysander' narratives, the 'Darrow' narrator was the most falsely predicted."
   ]
  },
  {
   "cell_type": "code",
   "execution_count": 9,
   "id": "86e19fb6",
   "metadata": {},
   "outputs": [
    {
     "name": "stdout",
     "output_type": "stream",
     "text": [
      "18/18 [==============================] - 28s 2s/step\n",
      "              precision    recall  f1-score   support\n",
      "\n",
      "           0       0.65      0.82      0.73       111\n",
      "           1       0.86      0.79      0.82       101\n",
      "           2       0.76      0.93      0.84        89\n",
      "           3       0.86      0.70      0.77       154\n",
      "           4       0.88      0.79      0.83       110\n",
      "\n",
      "    accuracy                           0.79       565\n",
      "   macro avg       0.80      0.81      0.80       565\n",
      "weighted avg       0.81      0.79      0.80       565\n",
      "\n"
     ]
    }
   ],
   "source": [
    "from sklearn.metrics import classification_report\n",
    "\n",
    "print(\n",
    "    classification_report(\n",
    "        np.argmax(y_test, axis=1),\n",
    "        np.argmax(bert_model_ft.predict([x_test.input_ids, x_test.token_type_ids, x_test.attention_mask]), axis=1),\n",
    "    )\n",
    ")"
   ]
  },
  {
   "cell_type": "markdown",
   "id": "b5de0be2",
   "metadata": {},
   "source": [
    "## Analysis of Out-of-Context Words"
   ]
  },
  {
   "cell_type": "markdown",
   "id": "87f1060b",
   "metadata": {},
   "source": [
    "Here is the cosine_similarities method from class to calculate and print out the distances between given word embeddings."
   ]
  },
  {
   "cell_type": "code",
   "execution_count": 10,
   "id": "50a1b862",
   "metadata": {},
   "outputs": [],
   "source": [
    "def cosine_similarities(vecs):\n",
    "    for v_1 in vecs:\n",
    "        similarities = ''\n",
    "        for v_2 in vecs:\n",
    "            similarities += ('\\t' + str(np.dot(v_1, v_2)/np.sqrt(np.dot(v_1, v_1) * np.dot(v_2, v_2)))[:4])\n",
    "        print(similarities)"
   ]
  },
  {
   "cell_type": "markdown",
   "id": "97233e65",
   "metadata": {},
   "source": [
    "In the novel, the 'Red' caste (color) comprises the lowest socio-economic rung on the latter - they are slaves. Did the model learn about that?\n",
    "\n",
    "The pre-trained embedding for 'slave' is quite similar to the post-tuning embedding for 'Red'!"
   ]
  },
  {
   "cell_type": "code",
   "execution_count": 11,
   "id": "9f1c09ff",
   "metadata": {},
   "outputs": [
    {
     "name": "stdout",
     "output_type": "stream",
     "text": [
      "\t1.0\t0.80\n",
      "\t0.80\t1.0\n"
     ]
    }
   ],
   "source": [
    "enc_1 = bert_tokenizer(\"slave\", return_tensors='tf')\n",
    "enc_2 = bert_tokenizer(\"Red\", return_tensors='tf')\n",
    "\n",
    "#Vector representation for \"slave\" in pre-trained model\n",
    "pt_1 = bert_model(enc_1)[0][0, 1].numpy()\n",
    "#Vector representation for \"Red\" in fine-tuned model\n",
    "ft_1 = bert_model_ft.layers[3](enc_2)[0][0, 1].numpy()\n",
    "\n",
    "cosine_similarities([pt_1, ft_1])"
   ]
  },
  {
   "cell_type": "markdown",
   "id": "ab059b5b",
   "metadata": {},
   "source": [
    "On the other hand, the 'Gold' caste (color) rule and exploit other colors.\n",
    "\n",
    "The cosine-similarity is much lower for the learned embedding for 'Gold' than 'Red' to 'slave'."
   ]
  },
  {
   "cell_type": "code",
   "execution_count": 12,
   "id": "802a6316",
   "metadata": {},
   "outputs": [
    {
     "name": "stdout",
     "output_type": "stream",
     "text": [
      "\t1.0\t0.65\n",
      "\t0.65\t1.0\n"
     ]
    }
   ],
   "source": [
    "enc_1 = bert_tokenizer(\"slave\", return_tensors='tf')\n",
    "enc_2 = bert_tokenizer(\"Gold\", return_tensors='tf')\n",
    "\n",
    "#Vector representation for \"slave\" in pre-trained model\n",
    "pt_1 = bert_model(enc_1)[0][0, 1].numpy()\n",
    "#Vector representation for \"Gold\" in fine-tuned model\n",
    "ft_1 = bert_model_ft.layers[3](enc_2)[0][0, 1].numpy()\n",
    "\n",
    "cosine_similarities([pt_1, ft_1])"
   ]
  },
  {
   "cell_type": "markdown",
   "id": "15014024",
   "metadata": {},
   "source": [
    "In the novel, Virginia is the Sovereign (ruler) of the Republic. Did the model learn about that?\n",
    "\n",
    "The pre-trained embedding for 'Sovereign' is quite different to the post-tuning embedding for 'Virginia'."
   ]
  },
  {
   "cell_type": "code",
   "execution_count": 13,
   "id": "edf208f7",
   "metadata": {},
   "outputs": [
    {
     "name": "stdout",
     "output_type": "stream",
     "text": [
      "\t1.0\t0.34\n",
      "\t0.34\t1.0\n"
     ]
    }
   ],
   "source": [
    "enc_1 = bert_tokenizer(\"Sovereign\", return_tensors='tf')\n",
    "enc_2 = bert_tokenizer(\"Virginia\", return_tensors='tf')\n",
    "\n",
    "#Vector representation for \"slave\" in pre-trained model\n",
    "pt_1 = bert_model(enc_1)[0][0, 1].numpy()\n",
    "#Vector representation for \"Red\" in fine-tuned model\n",
    "ft_1 = bert_model_ft.layers[3](enc_2)[0][0, 1].numpy()\n",
    "\n",
    "cosine_similarities([pt_1, ft_1])"
   ]
  },
  {
   "cell_type": "markdown",
   "id": "d217e3dc",
   "metadata": {},
   "source": [
    "However, the post-tuning embedding for 'Sovereign' is much more similar to the post-tuning embedding for 'Virginia'. The model learned something!"
   ]
  },
  {
   "cell_type": "code",
   "execution_count": 14,
   "id": "6b283f6b",
   "metadata": {},
   "outputs": [
    {
     "name": "stdout",
     "output_type": "stream",
     "text": [
      "\t1.0\t0.63\n",
      "\t0.63\t1.0\n"
     ]
    }
   ],
   "source": [
    "enc_1 = bert_tokenizer(\"Sovereign\", return_tensors='tf')\n",
    "enc_2 = bert_tokenizer(\"Virginia\", return_tensors='tf')\n",
    "\n",
    "#Vector representation for \"slave\" in pre-trained model\n",
    "pt_1 = bert_model_ft.layers[3](enc_1)[0][0, 1].numpy()\n",
    "#Vector representation for \"Red\" in fine-tuned model\n",
    "ft_1 = bert_model_ft.layers[3](enc_2)[0][0, 1].numpy()\n",
    "\n",
    "cosine_similarities([pt_1, ft_1])"
   ]
  }
 ],
 "metadata": {
  "kernelspec": {
   "display_name": "Python 3 (ipykernel)",
   "language": "python",
   "name": "python3"
  },
  "language_info": {
   "codemirror_mode": {
    "name": "ipython",
    "version": 3
   },
   "file_extension": ".py",
   "mimetype": "text/x-python",
   "name": "python",
   "nbconvert_exporter": "python",
   "pygments_lexer": "ipython3",
   "version": "3.9.16"
  }
 },
 "nbformat": 4,
 "nbformat_minor": 5
}
