{
 "cells": [
  {
   "cell_type": "markdown",
   "id": "50326ee9",
   "metadata": {},
   "source": [
    "# BERT Narration Classification\n",
    "\n",
    "### Final Project - Vincent Gu\n",
    "### DATASCI 266 - Section 3 - Summer 2023"
   ]
  },
  {
   "cell_type": "markdown",
   "id": "3bce33d8",
   "metadata": {},
   "source": [
    "## Background\n",
    "\n",
    "As a model framework, BERT's pre-training on existing 'real' data such as Wikipedia provides an enormous repository\n",
    "of context and position based word embeddings suitable as a starting point for a myriad of language tasks. Tuning this \n",
    "pre-trained model can lead to increased task accuracy for specific tasks and datasets.\n",
    "\n",
    "However, how does BERT perform when presented with fictional text that differs substantially from the non-fiction\n",
    "(Wikipedia) data it was trained on? Furthermore, how well can BERT be fine-tuned with fictional text to increase \n",
    "performance at a classification text? Finally, how well can BERT pick up subtle variations in word meanings based on \n",
    "surrounding fictional context?\n",
    "\n",
    "To begin answering these questions, I leveraged the base BERT model with the science fiction novel 'Dark Age' by \n",
    "Pierce Brown. In the novel Brown crafts a dystopia in which mankind genetically engineered itsself into twelve distinct castes (colors in the book). Each color holds a certain function in society and inter-color marriage is forbidden and engineered to be biologically impossible. For example, Gold as the ruling class are engineered to be taller, stronger and smarter than Reds who toil as menial slave laborers.\n",
    "\n",
    "The novel contains narration from 5 different individuals of different colors and perspectives and the corresponding language task involves classifying an excerpt of the text based on which narrator the model believes the text came \n",
    "from. I then looked to improve model performance by fine-tuning. Finally, I analyzed various out-of-context words \n",
    "specific to the world Pierce Brown created to determine if the fine-tuned BERT could pick up nuanced word meanings,\n",
    "as represented in word embeddings, based on narrator.\n",
    "\n",
    "The five narrators (classification buckets) are:\n",
    "1. Darrow: A Red genetically 'carved' into a Gold warlord who led an uprising\n",
    "2. Virginia: The Gold Sovereign (ruler) of a more egalitarian/reformed society\n",
    "3. Ephraim: A Gray (foot soldier)\n",
    "4. Lyria: A Red disillusioned with Virginia's society\n",
    "5. Lysander: The last grandchild of the former Sovereign, a fascist slaver"
   ]
  },
  {
   "cell_type": "markdown",
   "id": "4d1ff257",
   "metadata": {},
   "source": [
    "## Objectives\n",
    "\n",
    "- Build and train a fine-tuned BERT model to classify excerpts from the novel based on its narrator\n",
    "- Determine if the model can pick up nuanced out-of-context word meanings based on the perspectives of each narrator"
   ]
  },
  {
   "cell_type": "markdown",
   "id": "bc083091",
   "metadata": {},
   "source": [
    "## Project Directory\n",
    "\n",
    "* data (directory)\n",
    "  * dark-age-raw-text.txt\n",
    "* helpermodule (directory)\n",
    "  * data.py\n",
    "* models (directory - not in Github due to model size)\n",
    "* **main.ipynb**\n",
    "* BERT_base.py\n",
    "* train_BERT_base.sh"
   ]
  },
  {
   "cell_type": "markdown",
   "id": "f2c8f07e",
   "metadata": {},
   "source": [
    "## Data Setup"
   ]
  },
  {
   "cell_type": "code",
   "execution_count": 14,
   "id": "c83da45a",
   "metadata": {},
   "outputs": [],
   "source": [
    "import sys\n",
    "sys.path.append('helpermodule')\n",
    "import os\n",
    "os.environ['TF_CPP_MIN_LOG_LEVEL'] = '3'\n",
    "\n",
    "from helpermodule import data\n",
    "from data import get_chapter_data, get_excerpt_data, format_data\n",
    "from sklearn import preprocessing\n",
    "from sklearn.model_selection import train_test_split"
   ]
  },
  {
   "cell_type": "markdown",
   "id": "c80cecd2",
   "metadata": {},
   "source": [
    "The custom helpermodule package processes the raw text into labeled data. We have 2,822 excerpts of 100 words. Here is an example of the label associated with a given excerpt. "
   ]
  },
  {
   "cell_type": "code",
   "execution_count": 2,
   "id": "5f8e3e45",
   "metadata": {},
   "outputs": [
    {
     "name": "stdout",
     "output_type": "stream",
     "text": [
      "# Excerpts: 2822\n",
      "Darrow\n",
      "razor on the rooftops. Find it.” By the time the skinniest of them returns with my slingBlade in his trembling hands, another crowd has formed down the street. They’re trying to decide whether it’s worth rushing me. I take the blade from the boy. They see its shape. They run. I nod to the Red and, weighed down by forty kilos of dead armor, rush to ﬁnd my men. My miracle has turned into bedlam. Heliopolis is in chaos. Screams drift over the city. The streets are pitch dark. Gunshots crackle from conventional arms. Downed ships smolder and send black\n"
     ]
    }
   ],
   "source": [
    "excerpt_labels, excerpt_examples = get_excerpt_data(n_words=100)\n",
    "print(\"# Excerpts:\", len(excerpt_labels))\n",
    "print(excerpt_labels[2550])\n",
    "print(excerpt_examples[2550])"
   ]
  },
  {
   "cell_type": "markdown",
   "id": "a18d8797",
   "metadata": {},
   "source": [
    "Here we generate train/test sets."
   ]
  },
  {
   "cell_type": "code",
   "execution_count": 3,
   "id": "1ec6e3c1",
   "metadata": {},
   "outputs": [
    {
     "name": "stdout",
     "output_type": "stream",
     "text": [
      "2257\n",
      "565\n",
      "2257\n",
      "565\n"
     ]
    }
   ],
   "source": [
    "x_train, x_test, y_train, y_test = train_test_split(excerpt_examples, excerpt_labels, test_size=.2, random_state=2457)\n",
    "print(len(x_train))\n",
    "print(len(x_test))\n",
    "print(len(y_train))\n",
    "print(len(y_test))"
   ]
  },
  {
   "cell_type": "markdown",
   "id": "158288e1",
   "metadata": {},
   "source": [
    "# BERT Setup"
   ]
  },
  {
   "cell_type": "code",
   "execution_count": 4,
   "id": "c3b9bfd0",
   "metadata": {},
   "outputs": [],
   "source": [
    "import numpy as np\n",
    "import os\n",
    "os.environ['TF_CPP_MIN_LOG_LEVEL'] = '3'\n",
    "import tensorflow as tf\n",
    "from tensorflow import keras\n",
    "from tensorflow.keras.layers import Embedding, Input, Dense, Lambda\n",
    "from tensorflow.keras.models import Model\n",
    "import tensorflow.keras.backend as K\n",
    "from keras.utils import to_categorical\n",
    "import seaborn as sns\n",
    "\n",
    "import matplotlib.pyplot as plt\n",
    "from transformers import BertTokenizer, TFBertModel\n",
    "from transformers import logging\n",
    "tf.get_logger().setLevel('ERROR')"
   ]
  },
  {
   "cell_type": "code",
   "execution_count": 5,
   "id": "df066979",
   "metadata": {},
   "outputs": [
    {
     "name": "stderr",
     "output_type": "stream",
     "text": [
      "Some layers from the model checkpoint at bert-base-cased were not used when initializing TFBertModel: ['mlm___cls', 'nsp___cls']\n",
      "- This IS expected if you are initializing TFBertModel from the checkpoint of a model trained on another task or with another architecture (e.g. initializing a BertForSequenceClassification model from a BertForPreTraining model).\n",
      "- This IS NOT expected if you are initializing TFBertModel from the checkpoint of a model that you expect to be exactly identical (initializing a BertForSequenceClassification model from a BertForSequenceClassification model).\n",
      "All the layers of TFBertModel were initialized from the model checkpoint at bert-base-cased.\n",
      "If your task is similar to the task the model of the checkpoint was trained on, you can already use TFBertModel for predictions without further training.\n"
     ]
    }
   ],
   "source": [
    "bert_tokenizer = BertTokenizer.from_pretrained('bert-base-cased')\n",
    "bert_model = TFBertModel.from_pretrained('bert-base-cased')"
   ]
  },
  {
   "cell_type": "markdown",
   "id": "485c7a2e",
   "metadata": {},
   "source": [
    "## Training the Fine-Tuned Models"
   ]
  },
  {
   "cell_type": "markdown",
   "id": "d765c00e",
   "metadata": {},
   "source": [
    "To gauge various model training behaviors, the fine-tuned BERT model was trained using a number of batch sizes: **8, 18, 32, 64** and two excerpt sizes\" **100, 256**. In this setting, a single labeled observation (data point) would be comprised of either 100 or 256 words. Training details are saved as screenshots under the **training_screenshots** folder.\n",
    "\n",
    "As BERT's underlying transformer architecture requires significant computational resources, models were trained using GPU as opposed to CPU. Attempting to train on CPU look approximately two hours per epoch which was cut to between 5-15 minutes per epoch with GPU.\n",
    "\n",
    "Due to the size of these models, they were trained via commandline with the shell script **train_BERT.sh** which makes sucessive calls to **BERT_base.py**. These individual .py calls are parameterized with both the batch size and excerpt size. \n",
    "\n",
    "Overall, the models were able to learn a significant amount during training with final epoch validation accuracies around 80%. We see in initial epochs many models start off with about 20% validation accuracy - which indicates that at this point the model isn't performing any better at sorting into the five bins than it would if it was just randomly guessing. However, the substantial increases in validation accuracy over epochs demonstrates BERT's ability to learn."
   ]
  },
  {
   "cell_type": "markdown",
   "id": "4a51aed4",
   "metadata": {},
   "source": [
    "*Best Performing Model*"
   ]
  },
  {
   "cell_type": "code",
   "execution_count": 6,
   "id": "a2ee4a3e",
   "metadata": {},
   "outputs": [
    {
     "name": "stderr",
     "output_type": "stream",
     "text": [
      "Some layers from the model checkpoint at bert-base-cased were not used when initializing TFBertModel: ['mlm___cls', 'nsp___cls']\n",
      "- This IS expected if you are initializing TFBertModel from the checkpoint of a model trained on another task or with another architecture (e.g. initializing a BertForSequenceClassification model from a BertForPreTraining model).\n",
      "- This IS NOT expected if you are initializing TFBertModel from the checkpoint of a model that you expect to be exactly identical (initializing a BertForSequenceClassification model from a BertForSequenceClassification model).\n",
      "All the layers of TFBertModel were initialized from the model checkpoint at bert-base-cased.\n",
      "If your task is similar to the task the model of the checkpoint was trained on, you can already use TFBertModel for predictions without further training.\n"
     ]
    }
   ],
   "source": [
    "model_bert = tf.keras.models.load_model('./models/bert_classification_model_16_256.h5', custom_objects={\"TFBertModel\": bert_model})\n",
    "x_train, x_test, y_train, y_test = format_data(n=100)\n",
    "#x_train, x_test, y_train, y_test = train_test_split(excerpt_examples, excerpt_labels, test_size=.2, random_state=2457)"
   ]
  },
  {
   "cell_type": "code",
   "execution_count": 20,
   "id": "32aa5f6f",
   "metadata": {},
   "outputs": [
    {
     "name": "stdout",
     "output_type": "stream",
     "text": [
      "18/18 [==============================] - 28s 2s/step - loss: 1.5981 - accuracy: 0.2885\n"
     ]
    }
   ],
   "source": [
    "model_bert.evaluate([x_test.input_ids, x_test.token_type_ids, x_test.attention_mask],\n",
    "                                    y_test)"
   ]
  },
  {
   "cell_type": "code",
   "execution_count": 8,
   "id": "67649260",
   "metadata": {},
   "outputs": [
    {
     "name": "stdout",
     "output_type": "stream",
     "text": [
      "18/18 [==============================] - 30s 2s/step\n"
     ]
    },
    {
     "data": {
      "text/plain": [
       "<Axes: >"
      ]
     },
     "execution_count": 8,
     "metadata": {},
     "output_type": "execute_result"
    },
    {
     "data": {
      "image/png": "[encoded data removed]",
      "text/plain": [
       "<Figure size 640x480 with 1 Axes>"
      ]
     },
     "metadata": {},
     "output_type": "display_data"
    }
   ],
   "source": [
    "bert_cm = tf.math.confusion_matrix(\n",
    "    np.argmax(y_test, axis=1),\n",
    "    np.argmax(model_bert.predict([x_test.input_ids, x_test.token_type_ids, x_test.attention_mask]), axis=1),\n",
    ")\n",
    "sns.heatmap(bert_cm, annot=True, cbar=False, cmap=\"Blues\")"
   ]
  },
  {
   "cell_type": "markdown",
   "id": "b5de0be2",
   "metadata": {},
   "source": [
    "## Analysis of Out-of-Context Words"
   ]
  },
  {
   "cell_type": "code",
   "execution_count": 60,
   "id": "9f1c09ff",
   "metadata": {},
   "outputs": [
    {
     "data": {
      "text/plain": [
       "<tf.Tensor: shape=(768,), dtype=float32, numpy=\n",
       "array([ 2.11537808e-01, -5.85049033e-01,  2.49567509e-01, -3.47646475e-01,\n",
       "       -8.18176746e-01,  1.97755694e-01,  3.98829728e-01, -4.51668620e-01,\n",
       "        2.48744711e-01, -1.16943574e+00, -5.71029708e-02,  7.60794878e-01,\n",
       "       -1.02610558e-01, -6.28937632e-02, -9.31132734e-01,  5.55867791e-01,\n",
       "        6.91198632e-02,  6.39091313e-01, -3.07213627e-02, -3.95802945e-01,\n",
       "       -9.21144336e-02, -2.59645909e-01,  6.40626073e-01, -5.45688272e-01,\n",
       "       -2.98271924e-01,  3.82909365e-02,  6.12525702e-01,  3.85674179e-01,\n",
       "       -9.34098721e-01,  4.77753580e-01,  6.95850551e-02, -4.89636399e-02,\n",
       "       -1.92698240e-01,  1.95427015e-01, -2.95660704e-01, -3.06239843e-01,\n",
       "        1.77758276e-01,  5.30959666e-02,  1.86508268e-01, -5.16496226e-02,\n",
       "       -6.61048830e-01, -2.38469169e-02,  8.13131273e-01,  1.51765972e-01,\n",
       "       -3.38114321e-01, -4.51608956e-01,  2.31282655e-02,  3.58673573e-01,\n",
       "       -4.93296266e-01, -2.07823645e-02, -3.23579222e-01, -5.30078411e-01,\n",
       "        3.95829409e-01, -1.64526924e-01, -2.47531518e-01,  1.21185407e-01,\n",
       "       -6.36234045e-01, -3.03957880e-01, -7.96368062e-01,  3.19464236e-01,\n",
       "        5.39137602e-01, -1.90554187e-02,  5.11950970e-01,  2.12038338e-01,\n",
       "       -3.22790779e-02, -2.19600722e-01,  6.63388729e-01,  1.63562492e-01,\n",
       "       -1.85919628e-02, -4.04879272e-01, -1.72556639e-01, -2.27186814e-01,\n",
       "        4.33544852e-02,  1.49020398e+00,  1.95958048e-01, -5.31926095e-01,\n",
       "        1.12998895e-01,  4.82420087e-01, -4.05810624e-01, -2.57659167e-01,\n",
       "        4.11658525e-01, -3.08295429e-01,  1.06751025e-02,  5.80813773e-02,\n",
       "       -2.22238615e-01, -7.00811855e-03,  2.01776903e-02, -1.65765211e-01,\n",
       "       -2.30003640e-01,  4.25749928e-01,  6.34636581e-01,  5.34782529e-01,\n",
       "       -1.46553800e-01,  9.41737443e-02,  9.81370211e-02,  2.35988587e-01,\n",
       "       -2.52995372e-01, -1.36522830e-01,  5.62091446e+00,  2.57002145e-01,\n",
       "       -3.31540048e-01,  5.69530666e-01, -9.25204307e-02, -5.86329177e-02,\n",
       "        1.34656906e-01, -9.60957527e-01,  2.31303275e-01, -2.07880899e-01,\n",
       "       -2.77281523e-01,  6.89458072e-01,  1.10555995e+00, -3.66687745e-01,\n",
       "        5.96999168e-01, -4.92803574e-01,  6.05942346e-02,  1.07240438e-01,\n",
       "       -2.21058741e-01,  4.05174196e-01, -1.78186908e-01, -4.31317747e-01,\n",
       "        4.14732277e-01,  7.36118436e-01,  8.80357623e-01,  4.76331174e-01,\n",
       "       -2.96948463e-01,  1.66528150e-01,  6.54372752e-01, -1.74769193e-01,\n",
       "        2.42922395e-01, -2.38208458e-01, -4.39616531e-01, -5.91894686e-01,\n",
       "       -1.07518233e-01, -2.10727789e-02,  1.87523618e-01,  9.57668602e-01,\n",
       "       -2.68108279e-01,  6.12458646e-01, -6.17809296e-01,  6.53552473e-01,\n",
       "        8.55213106e-02, -8.09052289e-01,  4.69492733e-01, -4.54867542e-01,\n",
       "       -4.05131191e-01,  3.38582850e+00, -1.24417782e-01, -3.66319448e-01,\n",
       "        2.62725294e-01,  1.25336424e-01, -1.76464036e-01, -2.46936753e-01,\n",
       "       -5.41001499e-01, -1.98740512e-02, -2.21811414e-01, -8.52273554e-02,\n",
       "        3.64998668e-01, -4.29972634e-02,  6.19040012e-01, -3.39522272e-01,\n",
       "       -1.36361122e+00, -2.68744946e-01, -4.97592926e-01,  3.11544389e-01,\n",
       "        2.01742113e-01,  4.82162833e-02, -4.73845974e-02, -9.24668312e-01,\n",
       "        1.71927229e-01,  1.27388462e-01, -2.51601100e-01, -4.24016953e-01,\n",
       "       -2.24100018e+00, -1.23175249e-01,  2.68603772e-01,  1.44893959e-01,\n",
       "        1.95163250e-01, -8.76788422e-03, -4.66471687e-02, -3.14034820e-01,\n",
       "        3.65709841e-01, -3.81216407e-01,  6.87407911e-01,  2.38526672e-01,\n",
       "        4.46644008e-01,  4.07571018e-01,  3.42714369e-01, -5.22518635e-01,\n",
       "       -3.03693354e-01,  1.46968633e-01,  1.31889462e-01, -1.92623585e-01,\n",
       "       -1.35519132e-01, -1.56781733e-01,  8.54893208e-01, -1.70270473e-01,\n",
       "       -3.78405333e-01, -1.16944909e-01,  6.25460625e-01,  5.20879507e-01,\n",
       "       -4.40505445e-01,  4.26554441e-01, -4.55507517e-01,  6.49178624e-02,\n",
       "        4.33874905e-01,  4.39519823e-01,  5.88627577e-01, -2.63214409e-01,\n",
       "        2.08825544e-01, -8.85466710e-02, -3.04259539e-01, -8.71103406e-02,\n",
       "        5.28145283e-02,  7.11095780e-02,  5.74545145e-01, -3.44754219e-01,\n",
       "       -2.24052906e-01, -3.42532843e-02,  1.67939484e-01, -1.38758957e-01,\n",
       "       -6.23679996e-01, -4.61257517e-01,  3.07987660e-01,  6.94482960e-03,\n",
       "        5.89114547e-01, -2.17417389e-01, -4.96632699e-03, -2.37339541e-01,\n",
       "        1.19531356e-01, -2.54107893e-01,  3.14147681e-01, -9.69911925e-03,\n",
       "        2.79269218e-01, -1.83063656e-01, -5.63289523e-01, -2.23161697e-01,\n",
       "       -1.84933841e-01,  8.24725106e-02, -4.76996899e-01,  7.06650734e-01,\n",
       "       -6.69296086e-02,  9.15308297e-01,  1.07243204e+00, -1.62437454e-01,\n",
       "        3.78583446e-02, -1.14312142e-01,  4.69932139e-01,  3.94610703e-01,\n",
       "       -1.35423616e-01,  2.24866688e-01,  1.03705716e+00,  3.18567604e-02,\n",
       "       -5.02476573e-01, -2.64500469e-01, -2.25034714e-01,  7.50770867e-01,\n",
       "       -7.63047040e-02, -1.47773659e+00, -7.49661028e-02, -1.25097156e-01,\n",
       "       -3.63177091e-01, -2.27996898e+00,  3.26495588e-01, -1.25138983e-02,\n",
       "        3.21624130e-01, -2.57119089e-01,  1.67381853e-01,  5.38625836e-01,\n",
       "       -3.39048088e-01,  3.25901508e-02, -1.30330980e+00, -6.76049709e-01,\n",
       "       -7.13004649e-01,  2.37813592e-01, -9.16086376e-01, -2.12326348e-01,\n",
       "        1.14506647e-01,  1.06709704e-01, -6.94565773e-02, -7.11481929e-01,\n",
       "       -3.86838198e-01, -3.25656712e-01, -5.62746286e-01,  6.19223177e-01,\n",
       "       -5.52826822e-01, -9.98135656e-02,  1.33475706e-01,  1.69514686e-01,\n",
       "       -1.84335709e-01,  3.97671938e+00,  3.05788159e-01, -2.45886177e-01,\n",
       "       -2.11782992e-01, -6.39812425e-02,  3.50015432e-01,  2.56657302e-01,\n",
       "       -6.51560068e-01,  7.31168762e-02,  7.42654949e-02, -2.31217101e-01,\n",
       "        3.82705301e-01, -3.80682677e-01, -1.06449342e+00, -5.05413175e-01,\n",
       "       -4.36807692e-01, -5.70073128e-02, -1.36573195e-01,  7.26017952e-01,\n",
       "       -9.52840090e-01, -1.03079073e-01, -3.20446342e-01,  4.53810662e-01,\n",
       "       -3.26377779e-01, -9.83506292e-02, -6.21476948e-01, -5.63539565e-01,\n",
       "       -3.42748642e-01,  1.10998499e+00,  3.15717310e-01, -1.00881767e+00,\n",
       "        8.78666043e-01,  2.72277057e-01, -7.73446143e-01,  1.81538865e-01,\n",
       "       -4.50517565e-01, -4.18775737e-01, -1.25646312e-02, -7.24195838e-01,\n",
       "        1.52680185e-02,  2.04173148e-01,  8.07897151e-02,  3.61961246e-01,\n",
       "       -4.46744055e-01,  4.40253526e-01, -1.51677281e-01,  2.72388816e-01,\n",
       "       -3.71747881e-01,  9.91177112e-02, -6.26427054e-01, -6.17902100e-01,\n",
       "       -3.68221104e-01, -6.81022346e-01, -5.08779407e-01,  5.11135608e-02,\n",
       "       -2.17788249e-01,  4.83626574e-01, -1.61327153e-01, -5.01799762e-01,\n",
       "        1.89236715e-01,  1.12614840e-01, -2.86404818e-01,  4.29486558e-02,\n",
       "       -2.05248855e-02,  5.75022697e-01,  3.13490748e-01,  3.08033377e-02,\n",
       "       -3.29360545e-01,  1.18162051e-01, -2.16383040e-01, -6.46123961e-02,\n",
       "        2.59640753e-01, -1.96634555e+00,  1.98001385e-01,  4.79242593e-01,\n",
       "       -8.07047844e-01, -5.07642865e-01,  4.61436033e-01,  1.35736912e-01,\n",
       "       -4.54143919e-02, -9.68098454e-03, -9.25545394e-02, -6.96000233e-02,\n",
       "        8.06069851e-01,  4.00703907e-01, -2.81847835e-01, -3.25016864e-02,\n",
       "       -5.91719925e-01,  3.24306905e-01,  1.03137642e-01, -7.60683656e-01,\n",
       "       -3.84293139e-01,  3.57001036e-01, -1.98857427e-01,  2.41273046e-01,\n",
       "       -6.08825013e-02,  1.93288133e-01,  9.94259715e-01, -3.17824483e-01,\n",
       "       -1.40578479e-01,  5.94629526e-01,  6.96998239e-01, -5.93894303e-01,\n",
       "        2.90662944e-01, -6.19583018e-02, -3.62899810e-01, -2.12090954e-01,\n",
       "       -1.51836812e-01,  4.03604954e-01,  4.13772404e-01, -3.89267087e-01,\n",
       "       -2.06542104e-01,  5.15016317e-01,  3.68807375e-01,  3.67635310e-01,\n",
       "        2.06894249e-01, -5.78084171e-01, -4.09922779e-01, -2.64067292e-01,\n",
       "       -2.08990955e+00, -5.03979146e-01,  4.59182233e-01, -1.37297332e-01,\n",
       "        3.87576252e-01, -4.57459837e-02, -3.74837339e-01,  1.22909307e-01,\n",
       "        6.77404284e-01,  5.34769371e-02,  2.07341649e-02,  7.99192667e-01,\n",
       "        1.26550362e-01, -8.80238935e-02, -1.37238771e-01,  4.17693108e-02,\n",
       "       -1.78731754e-01,  2.28926744e-02, -2.08358049e-01, -1.52070388e-01,\n",
       "        2.93220337e-02,  3.64140570e-01, -5.16546547e-01,  4.60198879e-01,\n",
       "        4.19429362e-01, -4.58791852e-01, -3.81529331e-01,  4.70458090e-01,\n",
       "        2.85367310e-01, -4.42070365e-01, -1.60762861e-01,  4.56113291e+00,\n",
       "       -2.04442590e-01,  4.93141234e-01,  1.53964520e-01, -2.11624086e-01,\n",
       "        4.16232288e-01, -9.79333818e-02, -2.21843589e-02,  9.17972147e-01,\n",
       "       -1.48498505e-01, -1.31606534e-02, -1.66856889e-02,  3.70406061e-01,\n",
       "        5.86989880e-01, -5.00360847e-01,  2.82611638e-01,  3.22159797e-01,\n",
       "       -2.46954501e-01, -1.92865193e-01, -1.53760523e-01,  4.47198689e-01,\n",
       "       -1.32949576e-01,  2.24645644e-01, -7.15264499e-01, -9.13425013e-02,\n",
       "        3.30060273e-01,  1.50745198e-01, -5.89362264e-01, -6.85039982e-02,\n",
       "       -1.29724905e-01,  1.78330183e-01, -1.29159003e-01,  3.22247148e-01,\n",
       "        3.91339779e-01,  3.41820061e-01,  6.00690022e-02,  6.15500510e-01,\n",
       "       -1.12412363e-01, -4.40692216e-01, -7.89035022e-01,  2.73814321e-01,\n",
       "        5.37086427e-01,  1.39811218e+00, -3.92779082e-01,  6.53364360e-01,\n",
       "       -4.76345211e-01, -5.24039745e-01, -8.91136229e-01,  4.59881634e-01,\n",
       "        3.95525157e-01, -1.77855611e-01,  5.95714092e-01,  2.52954394e-01,\n",
       "       -1.57571770e-02,  9.63134244e-02,  9.27729085e-02,  3.17994416e-01,\n",
       "        3.63552749e-01,  2.58196503e-01,  3.48735332e-01, -4.63511869e-02,\n",
       "       -5.51681042e-01, -4.37869787e-01, -1.37985945e-01,  4.76716906e-02,\n",
       "       -3.26685339e-01,  4.53373790e-02, -4.06143546e-01, -4.42114294e-01,\n",
       "       -4.04917806e-01, -4.09927696e-01,  1.17289692e-01, -4.13753659e-01,\n",
       "        2.50513732e-01, -6.94220811e-02, -2.13756531e-01, -4.78179187e-01,\n",
       "       -2.05852166e-01,  2.92182088e-01,  5.38484678e-02, -6.62578702e-01,\n",
       "       -3.18274319e-01,  4.67455015e-02, -4.87616301e-01,  2.05018759e-01,\n",
       "        2.66654015e-01, -3.56837034e-01,  1.60498485e-01,  3.12859327e-01,\n",
       "       -6.35245219e-02, -5.17011762e-01, -4.67925966e-01, -3.21186513e-01,\n",
       "       -2.41075039e-01,  5.94500452e-02,  4.36912179e-01, -6.63672239e-02,\n",
       "       -3.13676149e-01, -1.95731670e-01,  2.00166598e-01,  9.80776012e-01,\n",
       "        1.67236656e-01,  6.18126392e-01,  2.02317268e-01,  7.62971723e-03,\n",
       "        1.23348664e-02,  2.42235884e-01,  9.86197405e-03,  3.44635874e-01,\n",
       "        2.34992087e-01,  3.76504272e-01,  1.90490201e-01,  5.19973874e-01,\n",
       "       -3.37054700e-01,  3.68796289e-01,  2.53303707e-01,  1.39964074e-01,\n",
       "       -7.33217180e-01, -6.18795538e+00,  4.43996377e-02,  2.90718824e-01,\n",
       "        8.01889956e-01, -6.15280569e-01, -5.64720213e-01,  5.04233062e-01,\n",
       "        8.75050798e-02,  4.76765722e-01,  7.76087463e-01,  9.78654251e-02,\n",
       "       -6.05897129e-01, -2.29139543e+00,  5.35694286e-02, -2.14443564e-01,\n",
       "       -7.19036013e-02,  6.03265643e-01, -1.04437864e+00,  2.15397496e-02,\n",
       "        2.37756461e-01, -2.22605556e-01, -4.65296745e-01,  5.52924275e-01,\n",
       "       -2.05436483e-01,  2.69499809e-01,  8.64203125e-02,  3.18413019e-01,\n",
       "       -4.99870628e-01,  7.76845515e-01,  2.04654306e-01, -1.07432842e-01,\n",
       "        5.35339594e-01,  7.76280165e-01, -9.54187214e-02,  5.40420949e-01,\n",
       "        4.48494740e-02, -4.30128425e-01,  1.66769102e-02,  4.28981274e-01,\n",
       "       -9.90502462e-02,  3.11579764e-01,  4.08379346e-01,  2.65199959e-01,\n",
       "        6.27741635e-01, -1.11317539e+00, -7.23816454e-01, -7.32657850e-01,\n",
       "       -1.53392375e+00,  1.30521342e-01,  4.27008837e-01,  4.06302750e-01,\n",
       "        3.24100912e-01, -6.72303557e-01, -3.73111844e-01, -3.33469033e-01,\n",
       "        2.97160208e-01,  2.51754105e-01,  9.33246687e-02,  4.39005524e-01,\n",
       "        1.89570025e-01, -8.30458999e-01, -9.30838883e-01,  6.16989851e-01,\n",
       "       -1.20793208e-01, -1.84506983e-01, -2.46799022e-01, -8.43586862e-01,\n",
       "        2.98618704e-01,  2.59077042e-01,  1.36973917e-01, -1.09041288e-01,\n",
       "        1.63898870e-01, -2.96195418e-01,  1.33427493e-02, -4.92139101e-01,\n",
       "        3.27391446e-01,  4.89420861e-01, -4.11248267e-01,  2.08335981e-01,\n",
       "        7.32580900e-01, -1.45287305e-01,  2.31890023e-01,  1.21131361e-01,\n",
       "       -2.37215057e-01, -4.36268449e-01, -2.17238665e-01, -1.86893761e-01,\n",
       "        4.28220570e-01, -3.29292387e-01, -3.49214613e-01, -3.80567580e-01,\n",
       "       -4.97651130e-01, -1.01171404e-01,  3.22067618e-01,  1.35377645e-01,\n",
       "        2.60817409e-01, -3.18527110e-02, -1.96558550e-01, -8.33476856e-02,\n",
       "        2.29671281e-02, -4.10416067e-01,  2.46199861e-01, -1.85888439e-01,\n",
       "       -4.36866760e-01, -1.57025293e-01, -5.24958193e-01,  2.41676784e+00,\n",
       "        1.95377886e-01, -3.18655312e-01, -6.07166171e-01,  1.87523514e-01,\n",
       "       -7.52366781e-01,  3.70100379e-01, -3.38711068e-02,  1.56115508e+00,\n",
       "        1.39690310e-01,  2.00766683e-01,  6.27189755e-01,  3.12683284e-01,\n",
       "        3.24060529e-01, -8.02518576e-02,  3.50922376e-01,  5.27253866e-01,\n",
       "        8.67037416e-01,  8.29368085e-02, -3.91021848e-01, -5.42738438e-01,\n",
       "       -6.31424606e-01, -7.61086941e-01, -3.28197151e-01,  1.04016042e+00,\n",
       "       -7.62605742e-02, -7.05156863e-01, -4.31654036e-01, -4.73523363e-02,\n",
       "       -5.23085892e-01,  8.96864772e-01, -3.76705289e-01, -3.79130870e-01,\n",
       "        1.21941328e+00, -3.27443302e-01,  3.33159685e-01,  5.37179291e-01,\n",
       "       -1.37961417e-01,  1.24764279e-01, -7.33595043e-02,  4.01834905e-01,\n",
       "       -3.68788689e-01, -8.69782805e-01,  8.11171949e-01, -3.94131780e-01,\n",
       "       -3.20072144e-01, -8.87398422e-02, -9.64241624e-01,  3.53504419e-02,\n",
       "       -1.39059089e-02, -7.01793849e-01, -4.28080589e-01, -3.53638142e-01,\n",
       "        7.69708872e-01, -1.74625754e-01, -5.34074426e-01, -6.45450771e-01,\n",
       "        6.13054149e-02,  1.19746767e-01, -7.14005470e-01, -1.99418977e-01,\n",
       "        1.67505816e-02, -2.28799090e-01, -2.11466774e-01, -2.85837322e-01,\n",
       "        7.22183049e-01,  2.51617968e-01, -7.56735504e-02, -1.62858814e-02,\n",
       "       -5.53456187e-01,  2.38158807e-01, -2.31128782e-01, -2.22475982e+00,\n",
       "        1.31831720e-01, -2.06914872e-01, -5.58116198e-01, -5.88703930e-01,\n",
       "        2.97122478e-01,  2.77196467e-01,  6.68407142e-01, -6.84256315e-01,\n",
       "        4.49514985e-01, -4.43275750e-01,  2.36764097e+00, -2.88658023e-01,\n",
       "        2.44790822e-01, -8.17085281e-02, -4.24952693e-02, -3.19768727e-01,\n",
       "        2.48574048e-01,  4.93169039e-01, -1.24483570e-01, -1.01798594e-01,\n",
       "        1.60568786e+00, -3.61187756e-02,  3.82517517e-01,  2.98844844e-01,\n",
       "       -4.63535488e-01, -2.20417097e-01,  9.30880606e-02,  5.55056274e-01,\n",
       "        7.28150368e-01, -3.52675468e-01,  4.78683352e-01,  9.04065892e-02],\n",
       "      dtype=float32)>"
      ]
     },
     "execution_count": 60,
     "metadata": {},
     "output_type": "execute_result"
    }
   ],
   "source": [
    "encoded_text = bert_tokenizer(\"Gold\", return_tensors='tf')\n",
    "\n",
    "#Vector representation for \"Gold\" in pre-trained model\n",
    "emb_1 = bert_model(encoded_text)[0][0, 1]\n",
    "emb_1"
   ]
  },
  {
   "cell_type": "code",
   "execution_count": 62,
   "id": "6b40edde",
   "metadata": {},
   "outputs": [
    {
     "name": "stdout",
     "output_type": "stream",
     "text": [
      "tf.Tensor(\n",
      "[-1.58516526e-01 -3.68443936e-01  7.32981384e-01  1.99113432e-02\n",
      " -1.56415746e-01 -8.11172426e-02  3.43863010e-01  5.54069653e-02\n",
      " -1.31554514e-01 -1.22576065e-01  8.52630138e-02  4.29312676e-01\n",
      " -1.17089242e-01  1.54653296e-01 -2.48663858e-01  7.53319681e-01\n",
      "  2.24459738e-01  2.06734493e-01 -2.52275020e-01 -2.34125495e-01\n",
      " -2.00704411e-02  2.08626613e-01 -4.21744257e-01 -1.92100689e-01\n",
      " -3.75723802e-02 -4.27761108e-01  4.61040646e-01  2.98211753e-01\n",
      " -1.17127076e-01  6.92551970e-01  1.20481670e-01  3.84461284e-01\n",
      " -2.79962391e-01 -1.16014473e-01  7.86475837e-02 -1.11985184e-01\n",
      " -3.34366441e-01  3.34439546e-01 -1.67179212e-01 -2.01846942e-01\n",
      "  1.30690202e-01 -2.11219311e-01  1.59090936e-01  4.15440500e-01\n",
      "  4.53365326e-01 -2.71402478e-01  3.75166714e-01  3.79360430e-02\n",
      " -7.05640495e-01 -3.30345631e-02 -1.05052784e-01 -1.84894428e-01\n",
      "  7.15169907e-02  1.49576858e-01 -1.14154644e-01 -2.65385687e-01\n",
      "  6.11505751e-03 -4.66674566e-01 -2.89244562e-01  2.10789591e-01\n",
      "  1.71164811e-01 -1.02299221e-01  1.53917566e-01 -1.75545439e-01\n",
      " -2.12664008e-01 -9.54272598e-02  7.55112171e-01 -1.62739471e-01\n",
      "  7.00581491e-01 -5.85901439e-01 -2.21996427e-01  9.34803933e-02\n",
      " -4.46380943e-01  1.37082949e-01  1.48833781e-01  7.49747992e-01\n",
      "  3.11170518e-01 -1.34933323e-01 -2.31700182e-01 -2.93720365e-01\n",
      " -1.33642316e-01 -2.72058338e-01  2.79065698e-01  2.64197171e-01\n",
      " -1.44654997e-02 -3.08427751e-01  8.32846984e-02 -1.42569810e-01\n",
      " -8.49567577e-02  1.35020599e-01  2.16212615e-01  9.45638791e-02\n",
      " -2.24391609e-01 -2.60384530e-01  2.08156437e-01  5.98640561e-01\n",
      " -4.43021238e-01  4.91040051e-01  4.24492866e-01  3.02682668e-01\n",
      "  1.08012473e-02  3.97665828e-01  2.85466135e-01 -9.77874398e-02\n",
      "  5.20780206e-01 -4.76050675e-01  1.06022760e-01 -5.72238564e-01\n",
      " -3.37855637e-01  5.51236987e-01  1.05915420e-01  2.23927617e-01\n",
      "  9.58370447e-01 -3.00439715e-01  1.70478880e-01 -5.22291839e-01\n",
      " -1.88266575e-01  3.79243314e-01 -6.25173002e-02 -1.47572070e-01\n",
      "  4.08596843e-01  4.32785094e-01 -2.31242433e-01  7.77179077e-02\n",
      " -4.16369915e-01  3.79764587e-01 -6.10681847e-02 -2.44849939e-02\n",
      "  8.33695903e-02 -3.15003544e-02  3.56042117e-01 -4.02025491e-01\n",
      "  6.20908476e-02 -1.73298731e-01  6.13839328e-01  3.25278252e-01\n",
      " -3.47458869e-01  4.08123940e-01 -4.23978239e-01  3.36538017e-01\n",
      " -3.34830970e-01 -5.82237005e-01  1.92768052e-01 -2.74015665e-01\n",
      " -2.23935395e-02  1.41813517e-01  3.80698025e-01 -2.79967219e-01\n",
      "  6.16173670e-02 -2.99467761e-02 -3.07343304e-01 -1.82631120e-01\n",
      " -1.89313307e-01 -4.45097685e-01  1.71876177e-01 -5.22522181e-02\n",
      "  2.27364033e-01  8.21835846e-02  6.01586998e-01  2.43592754e-01\n",
      " -2.13147234e-02 -4.13945615e-01 -4.00439739e-01  5.02362400e-02\n",
      "  3.35463583e-01  1.60582617e-01  3.14304471e-01 -1.59006380e-02\n",
      " -1.14286885e-01  4.89456467e-02  4.87668514e-01 -2.83234626e-01\n",
      " -3.31947431e-02 -3.39288801e-01  3.46841723e-01  3.40197504e-01\n",
      "  5.04216731e-01 -3.07430536e-01 -7.55539834e-02 -2.96090916e-02\n",
      "  7.76675045e-02 -3.78886640e-01  5.30825555e-01  1.37135908e-01\n",
      "  1.15981266e-01  5.11236370e-01  3.38725001e-01 -7.69497991e-01\n",
      " -5.78936756e-01  4.04884756e-01 -1.13338530e-02 -3.97104919e-01\n",
      " -4.64454621e-01 -1.90664575e-01  6.98309302e-01  1.51568562e-01\n",
      "  6.96956180e-03 -9.98824835e-02  2.65202045e-01  4.61959988e-01\n",
      " -4.49704885e-01  3.39880258e-01 -1.46513999e-01  1.39438346e-01\n",
      "  7.01622665e-03  6.07751787e-01  9.23416167e-02  4.85727727e-01\n",
      "  2.43241102e-01  1.65493146e-01 -2.05752309e-02  1.80624261e-01\n",
      " -1.98859274e-01 -3.93161923e-03 -1.24626234e-01 -1.73120797e-01\n",
      " -3.58601689e-01 -8.97185653e-02  1.36327833e-01  9.37077254e-02\n",
      " -2.79005766e-01 -6.72761321e-01 -3.15681964e-01 -9.22874734e-02\n",
      "  1.43507570e-01 -9.22897011e-02 -8.80438462e-03 -2.89720654e-01\n",
      " -2.49503739e-02 -1.24033839e-01  9.84648317e-02  2.76625901e-01\n",
      "  7.59843141e-02 -2.27907136e-01 -5.04082918e-01  1.45455882e-01\n",
      " -1.00187384e-01 -3.33991461e-02  2.11039647e-01  1.42421484e-01\n",
      " -3.02386377e-02  2.41122171e-01  9.80309904e-01 -1.38705939e-01\n",
      " -3.31330299e-01  2.96824366e-01  2.78948039e-01  5.63767374e-01\n",
      "  6.52280867e-01  4.45840836e-01  4.44414556e-01  3.86807434e-02\n",
      "  4.89655212e-02 -7.53217936e-01 -4.49023902e-01  1.68448210e-01\n",
      "  5.29076457e-01 -2.87153721e-01  9.04560834e-02 -2.85592169e-01\n",
      "  2.92330742e-01 -4.69176352e-01  3.39978114e-02  1.40888751e-01\n",
      " -4.38343406e-01 -1.26918063e-01 -1.44057021e-01  7.13899493e-01\n",
      " -5.12498021e-01  8.80744904e-02 -2.98493117e-01 -2.44385988e-01\n",
      " -3.99940312e-01  4.72369194e-01 -8.51915598e-01 -5.08769035e-01\n",
      " -9.65878367e-04  3.66469592e-01 -4.31130379e-01 -1.39090806e-01\n",
      " -2.10299447e-01 -2.68344611e-01  3.76806110e-01 -3.25476378e-02\n",
      " -4.84490693e-01  1.21284127e-02  7.04673380e-02  1.18041858e-01\n",
      " -5.56605458e-01  3.03546309e-01 -1.37021497e-01  1.02577522e-01\n",
      "  2.17196867e-01 -2.58321702e-01 -1.91082880e-01  1.11495107e-02\n",
      " -3.96553129e-01 -1.12850368e-02  5.95594160e-02 -6.46359771e-02\n",
      "  1.33165255e-01 -3.35272968e-01  2.59640098e-01 -1.72350094e-01\n",
      " -5.32999754e-01 -6.65209442e-03  2.28755027e-01  7.77102947e-01\n",
      "  4.72011343e-02 -4.11012441e-01 -4.75512087e-01  4.43036288e-01\n",
      " -7.39694387e-02  3.45933959e-02  2.44857892e-02 -5.55357695e-01\n",
      " -2.03142419e-01 -4.60903198e-02  1.99956030e-01  1.02335237e-01\n",
      " -7.29725212e-02 -4.03974950e-03 -6.22631729e-01 -4.82605159e-01\n",
      "  2.69678086e-01 -1.37860686e-01  2.28585511e-01 -6.13378406e-01\n",
      " -3.68154883e-01  1.44532382e-01  3.97812784e-01  2.37342238e-01\n",
      " -3.38692516e-01  3.96121562e-01 -3.17195535e-01  5.06099761e-01\n",
      " -5.37224054e-01 -2.01681316e-01 -3.61200005e-01  2.70450637e-02\n",
      " -2.24461913e-01 -8.34641278e-01 -2.83666342e-01  1.24779977e-01\n",
      " -2.46149585e-01 -1.62560027e-03  3.06920111e-02 -6.69198275e-01\n",
      "  5.95217608e-02  2.82247752e-01 -5.04012048e-01  3.20057422e-01\n",
      "  3.00680071e-01  2.05647230e-01  3.46520633e-01  5.31949878e-01\n",
      " -1.58573866e-01 -4.27113026e-02 -2.62732655e-01  2.68585712e-01\n",
      " -3.64520937e-01 -3.78636211e-01  5.91525510e-02  1.58240646e-01\n",
      " -3.22908044e-01 -4.36472178e-01  4.25723553e-01  5.12409583e-02\n",
      "  1.89769119e-01 -9.99318212e-02  5.01794934e-01 -4.25179392e-01\n",
      "  9.58534658e-01  4.44190979e-01  2.87883401e-01 -2.43672907e-01\n",
      " -1.96131766e-01  3.75453919e-01 -1.44480318e-01 -7.12629735e-01\n",
      "  3.01653266e-01  3.25600952e-01  1.72133327e-01  3.94514292e-01\n",
      " -1.59691200e-01  4.15514439e-01  8.93580317e-01  1.26027763e-01\n",
      "  2.47503184e-02  2.36404657e-01  2.68920004e-01 -1.04646884e-01\n",
      "  9.34495330e-02 -2.52697229e-01 -3.70456845e-01  9.56356153e-02\n",
      " -5.20696267e-02  5.12971520e-01  5.34357727e-02  3.26193422e-02\n",
      " -3.22487563e-01  2.93240666e-01  2.86593854e-01  2.48992845e-01\n",
      "  6.64866939e-02 -3.21359634e-01 -1.27750218e-01 -2.49307975e-01\n",
      " -7.56840527e-01 -3.11847299e-01 -2.61658490e-01 -2.38826334e-01\n",
      "  4.22426641e-01  5.97307459e-02 -2.45237872e-02 -3.50681603e-01\n",
      "  3.37255985e-01 -1.76005974e-01 -7.31493980e-02  2.58583993e-01\n",
      " -1.54451013e-01 -6.07269764e-01 -3.14846367e-01 -2.65079528e-01\n",
      "  2.08589695e-02 -6.72959909e-02 -2.14987993e-01 -2.29070365e-01\n",
      "  3.74881476e-01  1.39709860e-01  1.38718635e-03 -2.51969874e-01\n",
      "  1.94763392e-01 -2.50336558e-01  1.52708814e-01  9.08756256e-01\n",
      "  3.58388126e-01 -5.63451499e-02  3.36003482e-01 -6.09785259e-01\n",
      " -1.30696490e-01 -1.44902512e-01 -1.13956137e-02 -3.79382193e-01\n",
      "  4.22318369e-01 -2.74865180e-01 -1.25824913e-01  5.57817698e-01\n",
      "  8.58294070e-02 -8.36570635e-02  1.16075292e-01 -7.37427548e-03\n",
      "  9.92505848e-02  1.05688259e-01  1.21187061e-01  1.20978378e-01\n",
      " -2.55536228e-01  2.46293396e-01  7.00342283e-02  2.84202754e-01\n",
      "  1.69422716e-01  1.36550993e-01  1.09039359e-01  7.26062357e-02\n",
      "  6.79414392e-01  2.83401787e-01 -2.40871847e-01  3.45557958e-01\n",
      " -2.87258208e-01  2.30991870e-01 -3.13100666e-01  2.35101491e-01\n",
      "  8.09619501e-02  5.91163337e-01  2.46904373e-01  5.31217694e-01\n",
      "  2.35726088e-01 -3.73170406e-01 -4.33768302e-01  2.98784822e-01\n",
      "  5.30755401e-01  5.08772671e-01 -5.14842451e-01  1.80250287e-01\n",
      " -1.15467362e-01 -5.10538757e-01 -6.24689758e-02  4.52851415e-01\n",
      "  4.24818158e-01 -2.56437451e-01  2.00183451e-01 -5.42743132e-02\n",
      "  2.72196501e-01 -1.77238822e-01 -3.78574580e-01  2.27951109e-01\n",
      " -2.02834420e-02  1.56577304e-01  1.40402421e-01  2.00472713e-01\n",
      " -3.43724698e-01 -4.45353955e-01  3.15939635e-01  1.92499176e-01\n",
      "  4.60691079e-02  4.89744544e-01 -2.11838812e-01 -4.03078675e-01\n",
      " -1.27217546e-01 -3.19323629e-01  2.06961393e-01  2.63968468e-01\n",
      "  6.07859850e-01 -4.67769891e-01  1.83133721e-01  4.14915159e-02\n",
      "  3.59188542e-02  2.27491289e-01  2.20709089e-02 -1.30556688e-01\n",
      "  1.73341721e-01  5.92681542e-02 -3.53443861e-01  2.33134359e-01\n",
      "  1.28974110e-01  3.18206161e-01  3.38085473e-01  1.50878817e-01\n",
      "  1.34270772e-01 -4.40517247e-01  2.74064988e-01 -2.87507862e-01\n",
      "  2.49781728e-01 -1.69511646e-01 -7.01477379e-02 -2.37719938e-01\n",
      " -3.43852133e-01 -3.15962911e-01  2.54554331e-01  4.51469153e-01\n",
      "  3.27903740e-02  8.45699966e-01  4.13387626e-01 -2.83885986e-01\n",
      " -1.69275120e-01  3.93100441e-01 -2.47568816e-01  2.95495391e-02\n",
      "  2.26696759e-01  1.89643502e-02  5.92260947e-03  1.77032426e-01\n",
      " -3.47134203e-01  3.37218285e-01  4.69304249e-03  2.52905011e-01\n",
      " -7.02282012e-01 -9.10691643e+00  2.89184839e-01 -6.17515855e-02\n",
      "  5.07660389e-01 -2.47824043e-01 -4.79895830e-01 -1.13230035e-01\n",
      "  7.10110813e-02  3.66466045e-02  4.82776046e-01  3.92748415e-01\n",
      " -2.70809680e-01 -5.23870349e-01  4.06655818e-01 -1.42668962e-01\n",
      " -8.23345855e-02  6.82219386e-01 -1.79363608e-01  5.42189330e-02\n",
      " -3.13392997e-01 -6.62809461e-02 -5.77775598e-01  7.21352339e-01\n",
      "  4.98494089e-01  7.26072133e-01  3.48248690e-01  4.06418204e-01\n",
      " -1.66468233e-01  4.68478382e-01 -4.65392955e-02 -3.06697488e-01\n",
      "  5.14636755e-01  2.17982948e-01  4.77820933e-02  2.13465333e-01\n",
      "  2.53065266e-02  3.06665719e-01  1.12037763e-01  8.44454616e-02\n",
      " -3.75387907e-01 -4.49059382e-02  6.04886889e-01  5.86330533e-01\n",
      " -2.58356601e-01 -2.23589301e-01 -4.62919176e-01 -8.62172805e-03\n",
      "  2.18493268e-01 -4.92017120e-02  6.24081194e-01 -1.15509965e-01\n",
      "  2.92284220e-01 -4.63080019e-01 -2.71464765e-01 -2.33691975e-01\n",
      "  1.75824761e-01 -2.03887075e-01 -2.69984782e-01  3.61181097e-03\n",
      "  4.31228340e-01 -4.22863334e-01 -2.23148778e-01  3.69101644e-01\n",
      "  1.91713482e-01 -3.25132638e-01 -1.03845760e-01 -6.14939153e-01\n",
      "  7.19133839e-02  2.42271543e-01  3.30948293e-01 -2.41158634e-01\n",
      " -3.78327906e-01 -4.61051613e-01  2.46857964e-02 -2.22947851e-01\n",
      " -4.68710095e-01  4.03183550e-02 -1.32446796e-01  6.38478249e-02\n",
      "  9.65208888e-01 -3.99591848e-02  3.67574662e-01 -1.94137365e-01\n",
      " -1.54198989e-01 -5.74207187e-01 -2.02424332e-01 -6.52211010e-01\n",
      "  2.42151380e-01 -6.46222457e-02 -1.27649531e-01 -4.92147714e-01\n",
      " -7.79238641e-01 -1.80387646e-01  1.75543115e-01  2.91503593e-03\n",
      "  1.21974677e-01  2.21515879e-01 -8.16701353e-02  1.51408672e-01\n",
      " -4.14108455e-01 -3.22045505e-01  3.08349073e-01 -2.75948763e-01\n",
      " -1.56050220e-01 -3.23527366e-01 -9.91433635e-02  4.63980258e-01\n",
      " -2.81038806e-02 -6.77250326e-02 -1.47360519e-01  1.77025497e-01\n",
      " -3.38430345e-01  8.28737244e-02 -2.39221036e-01  6.88586533e-02\n",
      " -3.31768513e-01  1.58619761e-01  1.52585089e-01  3.81437451e-01\n",
      "  1.23347044e-01  9.28992778e-02 -1.41786709e-01  3.32839757e-01\n",
      "  2.35225126e-01  3.64278734e-01 -4.29147899e-01 -5.34501970e-01\n",
      "  1.24573223e-02 -4.11658943e-01 -2.01445132e-01  7.02163756e-01\n",
      "  2.96676457e-01 -1.21818893e-01 -2.29042977e-01  2.15018064e-01\n",
      " -3.09379607e-01  5.07795095e-01 -2.97927707e-01 -2.00235739e-01\n",
      "  4.72253859e-01  4.06797193e-02 -1.48832142e-01  2.35463679e-01\n",
      " -4.02206182e-01  2.29461506e-01  1.54521793e-01  3.14728945e-01\n",
      " -4.09598589e-01 -5.44237018e-01  5.23498654e-01 -1.18743956e-01\n",
      " -1.05010919e-01  3.97713363e-01 -5.45605719e-01 -2.12384328e-01\n",
      " -1.27191037e-01 -3.78185630e-01 -6.53068542e-01 -7.86347151e-01\n",
      "  6.37310386e-01  2.63017416e-01  2.09789842e-01  1.63648292e-01\n",
      "  1.07155189e-01 -1.71889171e-01 -7.23312080e-01 -5.90026155e-02\n",
      " -8.32555741e-02  2.50011720e-02  2.93216482e-02 -2.14427188e-02\n",
      "  3.80693108e-01  3.74981970e-01 -2.13142723e-01  3.78456175e-01\n",
      " -3.63443315e-01 -2.06477404e-01 -2.63849795e-01  3.61596674e-01\n",
      " -2.64062166e-01 -1.22638874e-01 -6.86666518e-02 -1.42632365e-01\n",
      "  3.54254127e-01  3.66977677e-02 -1.36726201e-01 -7.34805644e-01\n",
      " -1.22814372e-01 -2.35597089e-01  5.93040347e-01 -2.34504580e-01\n",
      "  1.49123967e-01 -3.82904336e-03  5.97383797e-01  1.63981467e-02\n",
      " -1.12424560e-01  7.84921572e-02  6.65221334e-01  1.13069758e-01\n",
      "  1.02536820e-01  6.36644125e-01 -1.84506029e-02  9.78110731e-02\n",
      " -3.48898321e-01 -3.16489220e-01 -6.32582605e-02  2.55998403e-01\n",
      "  5.51212311e-01  7.92032480e-02  1.12556800e-01 -9.51736718e-02], shape=(768,), dtype=float32)\n"
     ]
    }
   ],
   "source": [
    "#Vector representation for \"Gold\" in pre-trained model\n",
    "emb_2 = print(model_bert.layers[3](encoded_text)[0][0, 1])\n",
    "emb_2"
   ]
  }
 ],
 "metadata": {
  "kernelspec": {
   "display_name": "Python 3 (ipykernel)",
   "language": "python",
   "name": "python3"
  },
  "language_info": {
   "codemirror_mode": {
    "name": "ipython",
    "version": 3
   },
   "file_extension": ".py",
   "mimetype": "text/x-python",
   "name": "python",
   "nbconvert_exporter": "python",
   "pygments_lexer": "ipython3",
   "version": "3.9.16"
  }
 },
 "nbformat": 4,
 "nbformat_minor": 5
}
